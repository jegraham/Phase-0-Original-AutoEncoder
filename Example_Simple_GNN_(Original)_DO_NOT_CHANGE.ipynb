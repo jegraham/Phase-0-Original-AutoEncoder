{
  "cells": [
    {
      "cell_type": "markdown",
      "source": [
        "# Simple GNN Implementation (Phase 1) \n",
        "\n",
        "This is the initial GNN implementation using encoders and decoders. \n"
      ],
      "metadata": {
        "id": "4ldsze3w3rue"
      }
    },
    {
      "cell_type": "code",
      "execution_count": null,
      "metadata": {
        "id": "2yiOVK-_TEKe",
        "outputId": "b22cbca9-755b-4982-f614-87c7807fb435",
        "colab": {
          "base_uri": "https://localhost:8080/"
        }
      },
      "outputs": [
        {
          "output_type": "stream",
          "name": "stdout",
          "text": [
            "2.0.0+cu118\n",
            "Using pip 23.0.1 from /usr/local/lib/python3.9/dist-packages/pip (python 3.9)\n",
            "Looking in indexes: https://pypi.org/simple, https://us-python.pkg.dev/colab-wheels/public/simple/\n",
            "Requirement already satisfied: torch-scatter in /usr/local/lib/python3.9/dist-packages (2.1.1+pt20cu118)\n",
            "  Installing build dependencies ... \u001b[?25l\u001b[?25hdone\n",
            "  Getting requirements to build wheel ... \u001b[?25l\u001b[?25hdone\n",
            "  Preparing metadata (pyproject.toml) ... \u001b[?25l\u001b[?25hdone\n"
          ]
        }
      ],
      "source": [
        "import os\n",
        "import torch\n",
        "os.environ['TORCH'] = torch.__version__\n",
        "print(torch.__version__)\n",
        "\n",
        "!pip install -q torch-scatter -f https://data.pyg.org/whl/torch-${TORCH}.html\n",
        "!pip install --verbose torch-scatter\n",
        "!pip install -q torch-sparse -f https://data.pyg.org/whl/torch-${TORCH}.html\n",
        "!pip install -q git+https://github.com/pyg-team/pytorch_geometric.git"
      ]
    },
    {
      "cell_type": "code",
      "execution_count": null,
      "metadata": {
        "id": "Svz-Bd9wTEKh"
      },
      "outputs": [],
      "source": [
        "import torch\n",
        "from torch_geometric.datasets import Planetoid\n",
        "import torch_geometric.transforms as T\n",
        "from torch_geometric.nn import GCNConv\n",
        "from torch_geometric.utils import train_test_split_edges"
      ]
    },
    {
      "cell_type": "markdown",
      "metadata": {
        "id": "D1hx12OcTEKh"
      },
      "source": [
        "# Tutorial 6 - Example\n",
        "Graph AutoEncoders GAE &  \n",
        "Variational Graph Autoencoders VGAE    \n",
        "\n",
        "[Tutorial 6 paper](https://arxiv.org/pdf/1611.07308.pdf)  \n",
        "[Tutorial 6 code](https://github.com/rusty1s/pytorch_geometric/blob/master/examples/autoencoder.py)"
      ]
    },
    {
      "cell_type": "markdown",
      "metadata": {
        "id": "zQVGMoHWTEKi"
      },
      "source": [
        "## Graph AutoEncoder GAE"
      ]
    },
    {
      "cell_type": "markdown",
      "metadata": {
        "id": "glKKtyR-TEKi"
      },
      "source": [
        "### Load the data"
      ]
    },
    {
      "cell_type": "code",
      "execution_count": null,
      "metadata": {
        "id": "sBAMAHG0TEKi",
        "outputId": "fc7664b6-bf09-4f61-e8a4-9c8ba30bb6a9",
        "colab": {
          "base_uri": "https://localhost:8080/"
        }
      },
      "outputs": [
        {
          "output_type": "execute_result",
          "data": {
            "text/plain": [
              "Data(x=[3327, 3703], edge_index=[2, 9104], y=[3327], train_mask=[3327], val_mask=[3327], test_mask=[3327])"
            ]
          },
          "metadata": {},
          "execution_count": 10
        }
      ],
      "source": [
        "dataset = Planetoid(\"\\..\", \"CiteSeer\", transform=T.NormalizeFeatures())\n",
        "dataset.data"
      ]
    },
    {
      "cell_type": "code",
      "execution_count": null,
      "metadata": {
        "id": "SW3bUbmnTEKi",
        "outputId": "8d465c94-8c8a-437d-e981-dede149db2f8",
        "colab": {
          "base_uri": "https://localhost:8080/"
        }
      },
      "outputs": [
        {
          "output_type": "execute_result",
          "data": {
            "text/plain": [
              "Data(x=[3327, 3703], edge_index=[2, 9104], y=[3327])"
            ]
          },
          "metadata": {},
          "execution_count": 11
        }
      ],
      "source": [
        "data = dataset[0]\n",
        "data.train_mask = data.val_mask = data.test_mask = None\n",
        "data"
      ]
    },
    {
      "cell_type": "code",
      "execution_count": null,
      "metadata": {
        "id": "-mkbvmqNTEKj"
      },
      "outputs": [],
      "source": [
        "data = train_test_split_edges(data)"
      ]
    },
    {
      "cell_type": "code",
      "execution_count": null,
      "metadata": {
        "id": "OinNYmnDTEKj",
        "outputId": "1143e7f9-40ea-4881-a9cb-559034259aa9",
        "colab": {
          "base_uri": "https://localhost:8080/"
        }
      },
      "outputs": [
        {
          "output_type": "execute_result",
          "data": {
            "text/plain": [
              "Data(x=[3327, 3703], y=[3327], val_pos_edge_index=[2, 227], test_pos_edge_index=[2, 455], train_pos_edge_index=[2, 7740], train_neg_adj_mask=[3327, 3327], val_neg_edge_index=[2, 227], test_neg_edge_index=[2, 455])"
            ]
          },
          "metadata": {},
          "execution_count": 13
        }
      ],
      "source": [
        "data"
      ]
    },
    {
      "cell_type": "code",
      "execution_count": null,
      "metadata": {
        "id": "IBn9QTSQTEKj"
      },
      "outputs": [],
      "source": []
    },
    {
      "cell_type": "markdown",
      "metadata": {
        "id": "oU8BRz8aTEKj"
      },
      "source": [
        "### Define the Encoder"
      ]
    },
    {
      "cell_type": "code",
      "execution_count": null,
      "metadata": {
        "id": "WjkyHupnTEKk"
      },
      "outputs": [],
      "source": [
        "class GCNEncoder(torch.nn.Module):\n",
        "    def __init__(self, in_channels, out_channels):\n",
        "        super(GCNEncoder, self).__init__()\n",
        "        self.conv1 = GCNConv(in_channels, 2 * out_channels, cached=True) # cached only for transductive learning\n",
        "        self.conv2 = GCNConv(2 * out_channels, out_channels, cached=True) # cached only for transductive learning\n",
        "\n",
        "    def forward(self, x, edge_index):\n",
        "        x = self.conv1(x, edge_index).relu()\n",
        "        return self.conv2(x, edge_index)\n",
        "    "
      ]
    },
    {
      "cell_type": "markdown",
      "metadata": {
        "id": "8C-I03fLTEKk"
      },
      "source": [
        "### Define the Autoencoder"
      ]
    },
    {
      "cell_type": "code",
      "execution_count": null,
      "metadata": {
        "id": "Uc1ExaeeTEKk"
      },
      "outputs": [],
      "source": [
        "from torch_geometric.nn import GAE"
      ]
    },
    {
      "cell_type": "code",
      "execution_count": null,
      "metadata": {
        "id": "-BBuw3ojTEKk"
      },
      "outputs": [],
      "source": [
        "# parameters\n",
        "out_channels = 2\n",
        "num_features = dataset.num_features\n",
        "epochs = 100\n",
        "\n",
        "# model\n",
        "model = GAE(GCNEncoder(num_features, out_channels))\n",
        "\n",
        "# move to GPU (if available)\n",
        "device = torch.device('cuda' if torch.cuda.is_available() else 'cpu')\n",
        "model = model.to(device)\n",
        "x = data.x.to(device)\n",
        "train_pos_edge_index = data.train_pos_edge_index.to(device)\n",
        "\n",
        "# inizialize the optimizer\n",
        "optimizer = torch.optim.Adam(model.parameters(), lr=0.01)"
      ]
    },
    {
      "cell_type": "code",
      "execution_count": null,
      "metadata": {
        "id": "TFlrQoYsTEKk"
      },
      "outputs": [],
      "source": [
        "def train():\n",
        "    model.train()\n",
        "    optimizer.zero_grad()\n",
        "    z = model.encode(x, train_pos_edge_index)\n",
        "    loss = model.recon_loss(z, train_pos_edge_index)\n",
        "    #if args.variational:\n",
        "    #   loss = loss + (1 / data.num_nodes) * model.kl_loss()\n",
        "    loss.backward()\n",
        "    optimizer.step()\n",
        "    return float(loss)\n",
        "\n",
        "\n",
        "def test(pos_edge_index, neg_edge_index):\n",
        "    model.eval()\n",
        "    with torch.no_grad():\n",
        "        z = model.encode(x, train_pos_edge_index)\n",
        "    return model.test(z, pos_edge_index, neg_edge_index)\n",
        "\n"
      ]
    },
    {
      "cell_type": "code",
      "execution_count": null,
      "metadata": {
        "scrolled": true,
        "id": "12dcPY2tTEKk",
        "outputId": "5ea71a05-046e-41ac-bead-2989ed905f11",
        "colab": {
          "base_uri": "https://localhost:8080/"
        }
      },
      "outputs": [
        {
          "output_type": "stream",
          "name": "stdout",
          "text": [
            "Epoch: 001, AUC: 0.5968, AP: 0.6404\n",
            "Epoch: 002, AUC: 0.6227, AP: 0.6620\n",
            "Epoch: 003, AUC: 0.6253, AP: 0.6692\n",
            "Epoch: 004, AUC: 0.6258, AP: 0.6700\n",
            "Epoch: 005, AUC: 0.6227, AP: 0.6641\n",
            "Epoch: 006, AUC: 0.6231, AP: 0.6644\n",
            "Epoch: 007, AUC: 0.6237, AP: 0.6653\n",
            "Epoch: 008, AUC: 0.6249, AP: 0.6670\n",
            "Epoch: 009, AUC: 0.6264, AP: 0.6687\n",
            "Epoch: 010, AUC: 0.6276, AP: 0.6707\n",
            "Epoch: 011, AUC: 0.6281, AP: 0.6731\n",
            "Epoch: 012, AUC: 0.6282, AP: 0.6746\n",
            "Epoch: 013, AUC: 0.6282, AP: 0.6761\n",
            "Epoch: 014, AUC: 0.6279, AP: 0.6778\n",
            "Epoch: 015, AUC: 0.6270, AP: 0.6792\n",
            "Epoch: 016, AUC: 0.6266, AP: 0.6815\n",
            "Epoch: 017, AUC: 0.6253, AP: 0.6830\n",
            "Epoch: 018, AUC: 0.6245, AP: 0.6847\n",
            "Epoch: 019, AUC: 0.6239, AP: 0.6865\n",
            "Epoch: 020, AUC: 0.6232, AP: 0.6880\n",
            "Epoch: 021, AUC: 0.6231, AP: 0.6899\n",
            "Epoch: 022, AUC: 0.6228, AP: 0.6914\n",
            "Epoch: 023, AUC: 0.6228, AP: 0.6924\n",
            "Epoch: 024, AUC: 0.6229, AP: 0.6933\n",
            "Epoch: 025, AUC: 0.6235, AP: 0.6944\n",
            "Epoch: 026, AUC: 0.6240, AP: 0.6949\n",
            "Epoch: 027, AUC: 0.6248, AP: 0.6961\n",
            "Epoch: 028, AUC: 0.6257, AP: 0.6969\n",
            "Epoch: 029, AUC: 0.6273, AP: 0.6982\n",
            "Epoch: 030, AUC: 0.6293, AP: 0.6997\n",
            "Epoch: 031, AUC: 0.6314, AP: 0.7010\n",
            "Epoch: 032, AUC: 0.6347, AP: 0.7024\n",
            "Epoch: 033, AUC: 0.6397, AP: 0.7047\n",
            "Epoch: 034, AUC: 0.6472, AP: 0.7080\n",
            "Epoch: 035, AUC: 0.6543, AP: 0.7113\n",
            "Epoch: 036, AUC: 0.6636, AP: 0.7151\n",
            "Epoch: 037, AUC: 0.6745, AP: 0.7201\n",
            "Epoch: 038, AUC: 0.6852, AP: 0.7249\n",
            "Epoch: 039, AUC: 0.6960, AP: 0.7300\n",
            "Epoch: 040, AUC: 0.7086, AP: 0.7363\n",
            "Epoch: 041, AUC: 0.7213, AP: 0.7430\n",
            "Epoch: 042, AUC: 0.7312, AP: 0.7485\n",
            "Epoch: 043, AUC: 0.7420, AP: 0.7551\n",
            "Epoch: 044, AUC: 0.7528, AP: 0.7619\n",
            "Epoch: 045, AUC: 0.7625, AP: 0.7681\n",
            "Epoch: 046, AUC: 0.7706, AP: 0.7738\n",
            "Epoch: 047, AUC: 0.7765, AP: 0.7780\n",
            "Epoch: 048, AUC: 0.7806, AP: 0.7815\n",
            "Epoch: 049, AUC: 0.7831, AP: 0.7836\n",
            "Epoch: 050, AUC: 0.7854, AP: 0.7854\n",
            "Epoch: 051, AUC: 0.7869, AP: 0.7864\n",
            "Epoch: 052, AUC: 0.7878, AP: 0.7871\n",
            "Epoch: 053, AUC: 0.7889, AP: 0.7881\n",
            "Epoch: 054, AUC: 0.7899, AP: 0.7890\n",
            "Epoch: 055, AUC: 0.7908, AP: 0.7898\n",
            "Epoch: 056, AUC: 0.7913, AP: 0.7902\n",
            "Epoch: 057, AUC: 0.7915, AP: 0.7903\n",
            "Epoch: 058, AUC: 0.7916, AP: 0.7906\n",
            "Epoch: 059, AUC: 0.7918, AP: 0.7910\n",
            "Epoch: 060, AUC: 0.7917, AP: 0.7910\n",
            "Epoch: 061, AUC: 0.7919, AP: 0.7913\n",
            "Epoch: 062, AUC: 0.7919, AP: 0.7913\n",
            "Epoch: 063, AUC: 0.7923, AP: 0.7915\n",
            "Epoch: 064, AUC: 0.7923, AP: 0.7913\n",
            "Epoch: 065, AUC: 0.7919, AP: 0.7910\n",
            "Epoch: 066, AUC: 0.7916, AP: 0.7911\n",
            "Epoch: 067, AUC: 0.7913, AP: 0.7910\n",
            "Epoch: 068, AUC: 0.7909, AP: 0.7908\n",
            "Epoch: 069, AUC: 0.7909, AP: 0.7910\n",
            "Epoch: 070, AUC: 0.7909, AP: 0.7905\n",
            "Epoch: 071, AUC: 0.7908, AP: 0.7902\n",
            "Epoch: 072, AUC: 0.7904, AP: 0.7901\n",
            "Epoch: 073, AUC: 0.7897, AP: 0.7896\n",
            "Epoch: 074, AUC: 0.7889, AP: 0.7895\n",
            "Epoch: 075, AUC: 0.7881, AP: 0.7894\n",
            "Epoch: 076, AUC: 0.7877, AP: 0.7892\n",
            "Epoch: 077, AUC: 0.7873, AP: 0.7885\n",
            "Epoch: 078, AUC: 0.7869, AP: 0.7880\n",
            "Epoch: 079, AUC: 0.7867, AP: 0.7875\n",
            "Epoch: 080, AUC: 0.7861, AP: 0.7871\n",
            "Epoch: 081, AUC: 0.7852, AP: 0.7871\n",
            "Epoch: 082, AUC: 0.7843, AP: 0.7870\n",
            "Epoch: 083, AUC: 0.7838, AP: 0.7870\n",
            "Epoch: 084, AUC: 0.7836, AP: 0.7865\n",
            "Epoch: 085, AUC: 0.7836, AP: 0.7859\n",
            "Epoch: 086, AUC: 0.7836, AP: 0.7848\n",
            "Epoch: 087, AUC: 0.7832, AP: 0.7841\n",
            "Epoch: 088, AUC: 0.7834, AP: 0.7848\n",
            "Epoch: 089, AUC: 0.7828, AP: 0.7847\n",
            "Epoch: 090, AUC: 0.7827, AP: 0.7851\n",
            "Epoch: 091, AUC: 0.7823, AP: 0.7848\n",
            "Epoch: 092, AUC: 0.7822, AP: 0.7846\n",
            "Epoch: 093, AUC: 0.7821, AP: 0.7845\n",
            "Epoch: 094, AUC: 0.7820, AP: 0.7842\n",
            "Epoch: 095, AUC: 0.7822, AP: 0.7842\n",
            "Epoch: 096, AUC: 0.7825, AP: 0.7844\n",
            "Epoch: 097, AUC: 0.7824, AP: 0.7843\n",
            "Epoch: 098, AUC: 0.7823, AP: 0.7843\n",
            "Epoch: 099, AUC: 0.7821, AP: 0.7844\n",
            "Epoch: 100, AUC: 0.7820, AP: 0.7842\n"
          ]
        }
      ],
      "source": [
        "for epoch in range(1, epochs + 1):\n",
        "    loss = train()\n",
        "\n",
        "    auc, ap = test(data.test_pos_edge_index, data.test_neg_edge_index)\n",
        "    print('Epoch: {:03d}, AUC: {:.4f}, AP: {:.4f}'.format(epoch, auc, ap))"
      ]
    },
    {
      "cell_type": "code",
      "execution_count": null,
      "metadata": {
        "id": "kryB_I4kTEKl",
        "outputId": "bf229056-c545-4b53-aaed-4bbed2082e4e",
        "colab": {
          "base_uri": "https://localhost:8080/"
        }
      },
      "outputs": [
        {
          "output_type": "execute_result",
          "data": {
            "text/plain": [
              "tensor([[-0.2001,  0.4399],\n",
              "        [ 0.4931, -1.0101],\n",
              "        [-0.3626,  0.9303],\n",
              "        ...,\n",
              "        [ 0.0893, -0.5191],\n",
              "        [-0.3680,  0.8080],\n",
              "        [-0.3584,  1.0265]], grad_fn=<AddBackward0>)"
            ]
          },
          "metadata": {},
          "execution_count": 19
        }
      ],
      "source": [
        "Z = model.encode(x, train_pos_edge_index)\n",
        "Z"
      ]
    },
    {
      "cell_type": "code",
      "execution_count": null,
      "metadata": {
        "id": "VqjIrlxnTEKl"
      },
      "outputs": [],
      "source": []
    },
    {
      "cell_type": "code",
      "execution_count": null,
      "metadata": {
        "id": "3LFB6d0JTEKl"
      },
      "outputs": [],
      "source": []
    },
    {
      "cell_type": "code",
      "execution_count": null,
      "metadata": {
        "id": "Wne1Ewh8TEKl"
      },
      "outputs": [],
      "source": []
    },
    {
      "cell_type": "markdown",
      "metadata": {
        "id": "F7Ja9fkzTEKl"
      },
      "source": [
        "## Are the results (AUC) and (AP) easy to read and compare?"
      ]
    },
    {
      "cell_type": "markdown",
      "metadata": {
        "id": "3WT_N-PATEKl"
      },
      "source": [
        "# Use Tensorboard"
      ]
    },
    {
      "cell_type": "code",
      "execution_count": null,
      "metadata": {
        "id": "o1haq0UmTEKl"
      },
      "outputs": [],
      "source": [
        "from torch.utils.tensorboard import SummaryWriter"
      ]
    },
    {
      "cell_type": "code",
      "execution_count": null,
      "metadata": {
        "id": "2GEM3IuGTEKl"
      },
      "outputs": [],
      "source": [
        "# parameters\n",
        "out_channels = 2\n",
        "num_features = dataset.num_features\n",
        "epochs = 100\n",
        "\n",
        "# model\n",
        "model = GAE(GCNEncoder(num_features, out_channels))\n",
        "\n",
        "# move to GPU (if available)\n",
        "device = torch.device('cuda' if torch.cuda.is_available() else 'cpu')\n",
        "model = model.to(device)\n",
        "x = data.x.to(device)\n",
        "train_pos_edge_index = data.train_pos_edge_index.to(device)\n",
        "\n",
        "# inizialize the optimizer\n",
        "optimizer = torch.optim.Adam(model.parameters(), lr=0.01)"
      ]
    },
    {
      "cell_type": "markdown",
      "metadata": {
        "id": "xGP9FC2TTEKl"
      },
      "source": [
        "### Import tensorboard\n",
        "\n",
        "#### Installation: (if needed) \"pip install tensorboard\""
      ]
    },
    {
      "cell_type": "code",
      "execution_count": null,
      "metadata": {
        "id": "ohRz8zjuTEKl"
      },
      "outputs": [],
      "source": [
        "writer = SummaryWriter('runs/GAE1_experiment_'+'2d_100_epochs')"
      ]
    },
    {
      "cell_type": "code",
      "execution_count": null,
      "metadata": {
        "scrolled": true,
        "id": "tBlx08XcTEKm",
        "outputId": "81e48585-14b9-4de0-c98b-1567a7a27f0a",
        "colab": {
          "base_uri": "https://localhost:8080/"
        }
      },
      "outputs": [
        {
          "output_type": "stream",
          "name": "stdout",
          "text": [
            "Epoch: 001, AUC: 0.7885, AP: 0.7867\n",
            "Epoch: 002, AUC: 0.7885, AP: 0.7866\n",
            "Epoch: 003, AUC: 0.7876, AP: 0.7861\n",
            "Epoch: 004, AUC: 0.7871, AP: 0.7859\n",
            "Epoch: 005, AUC: 0.7874, AP: 0.7860\n",
            "Epoch: 006, AUC: 0.7875, AP: 0.7859\n",
            "Epoch: 007, AUC: 0.7878, AP: 0.7861\n",
            "Epoch: 008, AUC: 0.7877, AP: 0.7859\n",
            "Epoch: 009, AUC: 0.7870, AP: 0.7855\n",
            "Epoch: 010, AUC: 0.7861, AP: 0.7850\n",
            "Epoch: 011, AUC: 0.7856, AP: 0.7845\n",
            "Epoch: 012, AUC: 0.7859, AP: 0.7847\n",
            "Epoch: 013, AUC: 0.7861, AP: 0.7846\n",
            "Epoch: 014, AUC: 0.7859, AP: 0.7842\n",
            "Epoch: 015, AUC: 0.7856, AP: 0.7840\n",
            "Epoch: 016, AUC: 0.7850, AP: 0.7838\n",
            "Epoch: 017, AUC: 0.7842, AP: 0.7832\n",
            "Epoch: 018, AUC: 0.7832, AP: 0.7828\n",
            "Epoch: 019, AUC: 0.7824, AP: 0.7822\n",
            "Epoch: 020, AUC: 0.7823, AP: 0.7820\n",
            "Epoch: 021, AUC: 0.7829, AP: 0.7823\n",
            "Epoch: 022, AUC: 0.7831, AP: 0.7819\n",
            "Epoch: 023, AUC: 0.7825, AP: 0.7813\n",
            "Epoch: 024, AUC: 0.7821, AP: 0.7811\n",
            "Epoch: 025, AUC: 0.7819, AP: 0.7812\n",
            "Epoch: 026, AUC: 0.7810, AP: 0.7808\n",
            "Epoch: 027, AUC: 0.7807, AP: 0.7807\n",
            "Epoch: 028, AUC: 0.7808, AP: 0.7804\n",
            "Epoch: 029, AUC: 0.7806, AP: 0.7798\n",
            "Epoch: 030, AUC: 0.7803, AP: 0.7796\n",
            "Epoch: 031, AUC: 0.7800, AP: 0.7795\n",
            "Epoch: 032, AUC: 0.7797, AP: 0.7796\n",
            "Epoch: 033, AUC: 0.7789, AP: 0.7795\n",
            "Epoch: 034, AUC: 0.7787, AP: 0.7793\n",
            "Epoch: 035, AUC: 0.7789, AP: 0.7789\n",
            "Epoch: 036, AUC: 0.7790, AP: 0.7786\n",
            "Epoch: 037, AUC: 0.7789, AP: 0.7785\n",
            "Epoch: 038, AUC: 0.7787, AP: 0.7784\n",
            "Epoch: 039, AUC: 0.7779, AP: 0.7783\n",
            "Epoch: 040, AUC: 0.7770, AP: 0.7782\n",
            "Epoch: 041, AUC: 0.7767, AP: 0.7780\n",
            "Epoch: 042, AUC: 0.7766, AP: 0.7777\n",
            "Epoch: 043, AUC: 0.7766, AP: 0.7769\n",
            "Epoch: 044, AUC: 0.7766, AP: 0.7765\n",
            "Epoch: 045, AUC: 0.7765, AP: 0.7761\n",
            "Epoch: 046, AUC: 0.7759, AP: 0.7759\n",
            "Epoch: 047, AUC: 0.7750, AP: 0.7756\n",
            "Epoch: 048, AUC: 0.7744, AP: 0.7752\n",
            "Epoch: 049, AUC: 0.7741, AP: 0.7747\n",
            "Epoch: 050, AUC: 0.7740, AP: 0.7746\n",
            "Epoch: 051, AUC: 0.7741, AP: 0.7742\n",
            "Epoch: 052, AUC: 0.7742, AP: 0.7738\n",
            "Epoch: 053, AUC: 0.7737, AP: 0.7736\n",
            "Epoch: 054, AUC: 0.7729, AP: 0.7732\n",
            "Epoch: 055, AUC: 0.7725, AP: 0.7729\n",
            "Epoch: 056, AUC: 0.7720, AP: 0.7724\n",
            "Epoch: 057, AUC: 0.7716, AP: 0.7722\n",
            "Epoch: 058, AUC: 0.7711, AP: 0.7719\n",
            "Epoch: 059, AUC: 0.7710, AP: 0.7718\n",
            "Epoch: 060, AUC: 0.7712, AP: 0.7717\n",
            "Epoch: 061, AUC: 0.7712, AP: 0.7714\n",
            "Epoch: 062, AUC: 0.7706, AP: 0.7711\n",
            "Epoch: 063, AUC: 0.7695, AP: 0.7707\n",
            "Epoch: 064, AUC: 0.7690, AP: 0.7705\n",
            "Epoch: 065, AUC: 0.7687, AP: 0.7703\n",
            "Epoch: 066, AUC: 0.7685, AP: 0.7700\n",
            "Epoch: 067, AUC: 0.7684, AP: 0.7698\n",
            "Epoch: 068, AUC: 0.7681, AP: 0.7694\n",
            "Epoch: 069, AUC: 0.7676, AP: 0.7694\n",
            "Epoch: 070, AUC: 0.7670, AP: 0.7691\n",
            "Epoch: 071, AUC: 0.7667, AP: 0.7690\n",
            "Epoch: 072, AUC: 0.7665, AP: 0.7687\n",
            "Epoch: 073, AUC: 0.7665, AP: 0.7684\n",
            "Epoch: 074, AUC: 0.7664, AP: 0.7682\n",
            "Epoch: 075, AUC: 0.7659, AP: 0.7676\n",
            "Epoch: 076, AUC: 0.7654, AP: 0.7676\n",
            "Epoch: 077, AUC: 0.7653, AP: 0.7677\n",
            "Epoch: 078, AUC: 0.7651, AP: 0.7676\n",
            "Epoch: 079, AUC: 0.7649, AP: 0.7674\n",
            "Epoch: 080, AUC: 0.7649, AP: 0.7670\n",
            "Epoch: 081, AUC: 0.7649, AP: 0.7669\n",
            "Epoch: 082, AUC: 0.7647, AP: 0.7668\n",
            "Epoch: 083, AUC: 0.7646, AP: 0.7669\n",
            "Epoch: 084, AUC: 0.7644, AP: 0.7669\n",
            "Epoch: 085, AUC: 0.7642, AP: 0.7668\n",
            "Epoch: 086, AUC: 0.7643, AP: 0.7668\n",
            "Epoch: 087, AUC: 0.7646, AP: 0.7669\n",
            "Epoch: 088, AUC: 0.7645, AP: 0.7666\n",
            "Epoch: 089, AUC: 0.7646, AP: 0.7665\n",
            "Epoch: 090, AUC: 0.7645, AP: 0.7666\n",
            "Epoch: 091, AUC: 0.7647, AP: 0.7668\n",
            "Epoch: 092, AUC: 0.7647, AP: 0.7667\n",
            "Epoch: 093, AUC: 0.7647, AP: 0.7666\n",
            "Epoch: 094, AUC: 0.7645, AP: 0.7661\n",
            "Epoch: 095, AUC: 0.7645, AP: 0.7661\n",
            "Epoch: 096, AUC: 0.7647, AP: 0.7665\n",
            "Epoch: 097, AUC: 0.7642, AP: 0.7663\n",
            "Epoch: 098, AUC: 0.7635, AP: 0.7659\n",
            "Epoch: 099, AUC: 0.7640, AP: 0.7662\n",
            "Epoch: 100, AUC: 0.7641, AP: 0.7658\n"
          ]
        }
      ],
      "source": [
        "for epoch in range(1, epochs + 1):\n",
        "    loss = train()\n",
        "    auc, ap = test(data.test_pos_edge_index, data.test_neg_edge_index)\n",
        "    print('Epoch: {:03d}, AUC: {:.4f}, AP: {:.4f}'.format(epoch, auc, ap))\n",
        "    \n",
        "    \n",
        "    writer.add_scalar('auc train',auc,epoch) # new line\n",
        "    writer.add_scalar('ap train',ap,epoch)   # new line"
      ]
    },
    {
      "cell_type": "markdown",
      "source": [],
      "metadata": {
        "id": "cRUIUVB-z65G"
      }
    },
    {
      "cell_type": "code",
      "execution_count": null,
      "metadata": {
        "id": "GnvsFQzyTEKm"
      },
      "outputs": [],
      "source": []
    },
    {
      "cell_type": "markdown",
      "metadata": {
        "id": "ml-KUJQhTEKm"
      },
      "source": [
        "## Graph Variational AutoEncoder (GVAE)"
      ]
    },
    {
      "cell_type": "code",
      "execution_count": null,
      "metadata": {
        "id": "iB-KNvQBTEKm",
        "colab": {
          "base_uri": "https://localhost:8080/"
        },
        "outputId": "5bd49fda-3a7c-4ddf-e2c8-6036055fd509"
      },
      "outputs": [
        {
          "output_type": "stream",
          "name": "stdout",
          "text": [
            "Using pip 23.0.1 from /usr/local/lib/python3.9/dist-packages/pip (python 3.9)\n",
            "Looking in indexes: https://pypi.org/simple, https://us-python.pkg.dev/colab-wheels/public/simple/\n",
            "Requirement already satisfied: torch-scatter in /usr/local/lib/python3.9/dist-packages (2.1.1+pt20cu118)\n"
          ]
        }
      ],
      "source": [
        "from torch_geometric.nn import VGAE\n",
        "!pip install --verbose torch-scatter"
      ]
    },
    {
      "cell_type": "code",
      "execution_count": null,
      "metadata": {
        "id": "sK_KS8PBTEKm"
      },
      "outputs": [],
      "source": [
        "dataset = Planetoid(\"\\..\", \"CiteSeer\", transform=T.NormalizeFeatures())\n",
        "data = dataset[0]\n",
        "data.train_mask = data.val_mask = data.test_mask = data.y = None\n",
        "data = train_test_split_edges(data)\n",
        "\n",
        "\n",
        "class VariationalGCNEncoder(torch.nn.Module):\n",
        "    def __init__(self, in_channels, out_channels):\n",
        "        super(VariationalGCNEncoder, self).__init__()\n",
        "        self.conv1 = GCNConv(in_channels, 2 * out_channels, cached=True) # cached only for transductive learning\n",
        "        self.conv_mu = GCNConv(2 * out_channels, out_channels, cached=True)\n",
        "        self.conv_logstd = GCNConv(2 * out_channels, out_channels, cached=True)\n",
        "\n",
        "    def forward(self, x, edge_index):\n",
        "        x = self.conv1(x, edge_index).relu()\n",
        "        return self.conv_mu(x, edge_index), self.conv_logstd(x, edge_index)"
      ]
    },
    {
      "cell_type": "code",
      "execution_count": null,
      "metadata": {
        "id": "hOXyvB53TEKm"
      },
      "outputs": [],
      "source": [
        "out_channels = 2\n",
        "num_features = dataset.num_features\n",
        "epochs = 300\n",
        "\n",
        "\n",
        "model = VGAE(VariationalGCNEncoder(num_features, out_channels))  # new line\n",
        "\n",
        "device = torch.device('cuda' if torch.cuda.is_available() else 'cpu')\n",
        "model = model.to(device)\n",
        "x = data.x.to(device)\n",
        "train_pos_edge_index = data.train_pos_edge_index.to(device)\n",
        "optimizer = torch.optim.Adam(model.parameters(), lr=0.01)"
      ]
    },
    {
      "cell_type": "code",
      "execution_count": null,
      "metadata": {
        "id": "Ta9ObqAFTEKm"
      },
      "outputs": [],
      "source": [
        "def train():\n",
        "    model.train()\n",
        "    optimizer.zero_grad()\n",
        "    z = model.encode(x, train_pos_edge_index)\n",
        "    loss = model.recon_loss(z, train_pos_edge_index)\n",
        "    \n",
        "    loss = loss + (1 / data.num_nodes) * model.kl_loss()  # new line\n",
        "    loss.backward()\n",
        "    optimizer.step()\n",
        "    return float(loss)\n",
        "\n",
        "\n",
        "def test(pos_edge_index, neg_edge_index):\n",
        "    model.eval()\n",
        "    with torch.no_grad():\n",
        "        z = model.encode(x, train_pos_edge_index)\n",
        "    return model.test(z, pos_edge_index, neg_edge_index)"
      ]
    },
    {
      "cell_type": "code",
      "execution_count": null,
      "metadata": {
        "scrolled": true,
        "id": "cLuG1ow0TEKm",
        "outputId": "527be921-3196-4f92-9e05-1162ff3d3ce3",
        "colab": {
          "base_uri": "https://localhost:8080/"
        }
      },
      "outputs": [
        {
          "output_type": "stream",
          "name": "stdout",
          "text": [
            "Epoch: 001, AUC: 0.5754, AP: 0.5951\n",
            "Epoch: 002, AUC: 0.5847, AP: 0.6056\n",
            "Epoch: 003, AUC: 0.6097, AP: 0.6272\n",
            "Epoch: 004, AUC: 0.6135, AP: 0.6302\n",
            "Epoch: 005, AUC: 0.6156, AP: 0.6323\n",
            "Epoch: 006, AUC: 0.6164, AP: 0.6327\n",
            "Epoch: 007, AUC: 0.6169, AP: 0.6331\n",
            "Epoch: 008, AUC: 0.6173, AP: 0.6345\n",
            "Epoch: 009, AUC: 0.6175, AP: 0.6349\n",
            "Epoch: 010, AUC: 0.6170, AP: 0.6352\n",
            "Epoch: 011, AUC: 0.6168, AP: 0.6355\n",
            "Epoch: 012, AUC: 0.6170, AP: 0.6358\n",
            "Epoch: 013, AUC: 0.6169, AP: 0.6356\n",
            "Epoch: 014, AUC: 0.6165, AP: 0.6355\n",
            "Epoch: 015, AUC: 0.6162, AP: 0.6350\n",
            "Epoch: 016, AUC: 0.6156, AP: 0.6339\n",
            "Epoch: 017, AUC: 0.6152, AP: 0.6335\n",
            "Epoch: 018, AUC: 0.6152, AP: 0.6334\n",
            "Epoch: 019, AUC: 0.6145, AP: 0.6329\n",
            "Epoch: 020, AUC: 0.6141, AP: 0.6326\n",
            "Epoch: 021, AUC: 0.6137, AP: 0.6322\n",
            "Epoch: 022, AUC: 0.6132, AP: 0.6318\n",
            "Epoch: 023, AUC: 0.6128, AP: 0.6316\n",
            "Epoch: 024, AUC: 0.6119, AP: 0.6310\n",
            "Epoch: 025, AUC: 0.6114, AP: 0.6304\n",
            "Epoch: 026, AUC: 0.6105, AP: 0.6296\n",
            "Epoch: 027, AUC: 0.6099, AP: 0.6289\n",
            "Epoch: 028, AUC: 0.6089, AP: 0.6278\n",
            "Epoch: 029, AUC: 0.6083, AP: 0.6271\n",
            "Epoch: 030, AUC: 0.6067, AP: 0.6258\n",
            "Epoch: 031, AUC: 0.6058, AP: 0.6251\n",
            "Epoch: 032, AUC: 0.6049, AP: 0.6244\n",
            "Epoch: 033, AUC: 0.6045, AP: 0.6246\n",
            "Epoch: 034, AUC: 0.6043, AP: 0.6244\n",
            "Epoch: 035, AUC: 0.6040, AP: 0.6243\n",
            "Epoch: 036, AUC: 0.6043, AP: 0.6244\n",
            "Epoch: 037, AUC: 0.6048, AP: 0.6249\n",
            "Epoch: 038, AUC: 0.6054, AP: 0.6253\n",
            "Epoch: 039, AUC: 0.6060, AP: 0.6256\n",
            "Epoch: 040, AUC: 0.6062, AP: 0.6259\n",
            "Epoch: 041, AUC: 0.6066, AP: 0.6263\n",
            "Epoch: 042, AUC: 0.6077, AP: 0.6272\n",
            "Epoch: 043, AUC: 0.6089, AP: 0.6281\n",
            "Epoch: 044, AUC: 0.6105, AP: 0.6295\n",
            "Epoch: 045, AUC: 0.6113, AP: 0.6305\n",
            "Epoch: 046, AUC: 0.6120, AP: 0.6311\n",
            "Epoch: 047, AUC: 0.6131, AP: 0.6323\n",
            "Epoch: 048, AUC: 0.6141, AP: 0.6332\n",
            "Epoch: 049, AUC: 0.6151, AP: 0.6342\n",
            "Epoch: 050, AUC: 0.6163, AP: 0.6352\n",
            "Epoch: 051, AUC: 0.6172, AP: 0.6361\n",
            "Epoch: 052, AUC: 0.6182, AP: 0.6371\n",
            "Epoch: 053, AUC: 0.6194, AP: 0.6384\n",
            "Epoch: 054, AUC: 0.6200, AP: 0.6391\n",
            "Epoch: 055, AUC: 0.6206, AP: 0.6399\n",
            "Epoch: 056, AUC: 0.6211, AP: 0.6406\n",
            "Epoch: 057, AUC: 0.6214, AP: 0.6412\n",
            "Epoch: 058, AUC: 0.6217, AP: 0.6414\n",
            "Epoch: 059, AUC: 0.6219, AP: 0.6420\n",
            "Epoch: 060, AUC: 0.6220, AP: 0.6423\n",
            "Epoch: 061, AUC: 0.6223, AP: 0.6428\n",
            "Epoch: 062, AUC: 0.6223, AP: 0.6431\n",
            "Epoch: 063, AUC: 0.6224, AP: 0.6434\n",
            "Epoch: 064, AUC: 0.6225, AP: 0.6438\n",
            "Epoch: 065, AUC: 0.6228, AP: 0.6442\n",
            "Epoch: 066, AUC: 0.6230, AP: 0.6446\n",
            "Epoch: 067, AUC: 0.6232, AP: 0.6452\n",
            "Epoch: 068, AUC: 0.6233, AP: 0.6456\n",
            "Epoch: 069, AUC: 0.6235, AP: 0.6461\n",
            "Epoch: 070, AUC: 0.6237, AP: 0.6464\n",
            "Epoch: 071, AUC: 0.6241, AP: 0.6472\n",
            "Epoch: 072, AUC: 0.6243, AP: 0.6477\n",
            "Epoch: 073, AUC: 0.6245, AP: 0.6483\n",
            "Epoch: 074, AUC: 0.6250, AP: 0.6489\n",
            "Epoch: 075, AUC: 0.6251, AP: 0.6494\n",
            "Epoch: 076, AUC: 0.6255, AP: 0.6504\n",
            "Epoch: 077, AUC: 0.6257, AP: 0.6510\n",
            "Epoch: 078, AUC: 0.6257, AP: 0.6512\n",
            "Epoch: 079, AUC: 0.6259, AP: 0.6516\n",
            "Epoch: 080, AUC: 0.6260, AP: 0.6522\n",
            "Epoch: 081, AUC: 0.6263, AP: 0.6527\n",
            "Epoch: 082, AUC: 0.6264, AP: 0.6530\n",
            "Epoch: 083, AUC: 0.6264, AP: 0.6533\n",
            "Epoch: 084, AUC: 0.6265, AP: 0.6534\n",
            "Epoch: 085, AUC: 0.6265, AP: 0.6537\n",
            "Epoch: 086, AUC: 0.6264, AP: 0.6539\n",
            "Epoch: 087, AUC: 0.6264, AP: 0.6540\n",
            "Epoch: 088, AUC: 0.6267, AP: 0.6543\n",
            "Epoch: 089, AUC: 0.6269, AP: 0.6548\n",
            "Epoch: 090, AUC: 0.6275, AP: 0.6557\n",
            "Epoch: 091, AUC: 0.6279, AP: 0.6565\n",
            "Epoch: 092, AUC: 0.6284, AP: 0.6573\n",
            "Epoch: 093, AUC: 0.6287, AP: 0.6580\n",
            "Epoch: 094, AUC: 0.6291, AP: 0.6587\n",
            "Epoch: 095, AUC: 0.6293, AP: 0.6591\n",
            "Epoch: 096, AUC: 0.6297, AP: 0.6597\n",
            "Epoch: 097, AUC: 0.6297, AP: 0.6601\n",
            "Epoch: 098, AUC: 0.6301, AP: 0.6606\n",
            "Epoch: 099, AUC: 0.6302, AP: 0.6611\n",
            "Epoch: 100, AUC: 0.6303, AP: 0.6612\n",
            "Epoch: 101, AUC: 0.6306, AP: 0.6616\n",
            "Epoch: 102, AUC: 0.6310, AP: 0.6622\n",
            "Epoch: 103, AUC: 0.6316, AP: 0.6628\n",
            "Epoch: 104, AUC: 0.6320, AP: 0.6635\n",
            "Epoch: 105, AUC: 0.6325, AP: 0.6642\n",
            "Epoch: 106, AUC: 0.6330, AP: 0.6650\n",
            "Epoch: 107, AUC: 0.6335, AP: 0.6658\n",
            "Epoch: 108, AUC: 0.6339, AP: 0.6663\n",
            "Epoch: 109, AUC: 0.6344, AP: 0.6671\n",
            "Epoch: 110, AUC: 0.6348, AP: 0.6674\n",
            "Epoch: 111, AUC: 0.6352, AP: 0.6682\n",
            "Epoch: 112, AUC: 0.6355, AP: 0.6685\n",
            "Epoch: 113, AUC: 0.6360, AP: 0.6693\n",
            "Epoch: 114, AUC: 0.6364, AP: 0.6700\n",
            "Epoch: 115, AUC: 0.6366, AP: 0.6704\n",
            "Epoch: 116, AUC: 0.6369, AP: 0.6708\n",
            "Epoch: 117, AUC: 0.6375, AP: 0.6714\n",
            "Epoch: 118, AUC: 0.6378, AP: 0.6717\n",
            "Epoch: 119, AUC: 0.6385, AP: 0.6725\n",
            "Epoch: 120, AUC: 0.6393, AP: 0.6731\n",
            "Epoch: 121, AUC: 0.6403, AP: 0.6742\n",
            "Epoch: 122, AUC: 0.6412, AP: 0.6748\n",
            "Epoch: 123, AUC: 0.6425, AP: 0.6757\n",
            "Epoch: 124, AUC: 0.6438, AP: 0.6765\n",
            "Epoch: 125, AUC: 0.6453, AP: 0.6775\n",
            "Epoch: 126, AUC: 0.6469, AP: 0.6784\n",
            "Epoch: 127, AUC: 0.6490, AP: 0.6794\n",
            "Epoch: 128, AUC: 0.6505, AP: 0.6805\n",
            "Epoch: 129, AUC: 0.6518, AP: 0.6813\n",
            "Epoch: 130, AUC: 0.6535, AP: 0.6822\n",
            "Epoch: 131, AUC: 0.6559, AP: 0.6833\n",
            "Epoch: 132, AUC: 0.6577, AP: 0.6844\n",
            "Epoch: 133, AUC: 0.6600, AP: 0.6855\n",
            "Epoch: 134, AUC: 0.6621, AP: 0.6867\n",
            "Epoch: 135, AUC: 0.6641, AP: 0.6882\n",
            "Epoch: 136, AUC: 0.6659, AP: 0.6896\n",
            "Epoch: 137, AUC: 0.6677, AP: 0.6909\n",
            "Epoch: 138, AUC: 0.6696, AP: 0.6922\n",
            "Epoch: 139, AUC: 0.6710, AP: 0.6934\n",
            "Epoch: 140, AUC: 0.6723, AP: 0.6946\n",
            "Epoch: 141, AUC: 0.6739, AP: 0.6962\n",
            "Epoch: 142, AUC: 0.6752, AP: 0.6974\n",
            "Epoch: 143, AUC: 0.6767, AP: 0.6984\n",
            "Epoch: 144, AUC: 0.6786, AP: 0.6999\n",
            "Epoch: 145, AUC: 0.6801, AP: 0.7011\n",
            "Epoch: 146, AUC: 0.6817, AP: 0.7026\n",
            "Epoch: 147, AUC: 0.6837, AP: 0.7046\n",
            "Epoch: 148, AUC: 0.6865, AP: 0.7072\n",
            "Epoch: 149, AUC: 0.6891, AP: 0.7093\n",
            "Epoch: 150, AUC: 0.6917, AP: 0.7111\n",
            "Epoch: 151, AUC: 0.6936, AP: 0.7126\n",
            "Epoch: 152, AUC: 0.6957, AP: 0.7139\n",
            "Epoch: 153, AUC: 0.6973, AP: 0.7150\n",
            "Epoch: 154, AUC: 0.6992, AP: 0.7163\n",
            "Epoch: 155, AUC: 0.7015, AP: 0.7179\n",
            "Epoch: 156, AUC: 0.7039, AP: 0.7195\n",
            "Epoch: 157, AUC: 0.7062, AP: 0.7209\n",
            "Epoch: 158, AUC: 0.7086, AP: 0.7221\n",
            "Epoch: 159, AUC: 0.7113, AP: 0.7236\n",
            "Epoch: 160, AUC: 0.7137, AP: 0.7251\n",
            "Epoch: 161, AUC: 0.7155, AP: 0.7259\n",
            "Epoch: 162, AUC: 0.7171, AP: 0.7267\n",
            "Epoch: 163, AUC: 0.7185, AP: 0.7274\n",
            "Epoch: 164, AUC: 0.7195, AP: 0.7278\n",
            "Epoch: 165, AUC: 0.7209, AP: 0.7286\n",
            "Epoch: 166, AUC: 0.7217, AP: 0.7289\n",
            "Epoch: 167, AUC: 0.7226, AP: 0.7293\n",
            "Epoch: 168, AUC: 0.7239, AP: 0.7300\n",
            "Epoch: 169, AUC: 0.7250, AP: 0.7304\n",
            "Epoch: 170, AUC: 0.7261, AP: 0.7310\n",
            "Epoch: 171, AUC: 0.7272, AP: 0.7308\n",
            "Epoch: 172, AUC: 0.7281, AP: 0.7313\n",
            "Epoch: 173, AUC: 0.7290, AP: 0.7312\n",
            "Epoch: 174, AUC: 0.7296, AP: 0.7312\n",
            "Epoch: 175, AUC: 0.7306, AP: 0.7319\n",
            "Epoch: 176, AUC: 0.7318, AP: 0.7325\n",
            "Epoch: 177, AUC: 0.7327, AP: 0.7327\n",
            "Epoch: 178, AUC: 0.7337, AP: 0.7331\n",
            "Epoch: 179, AUC: 0.7350, AP: 0.7337\n",
            "Epoch: 180, AUC: 0.7359, AP: 0.7339\n",
            "Epoch: 181, AUC: 0.7367, AP: 0.7341\n",
            "Epoch: 182, AUC: 0.7374, AP: 0.7341\n",
            "Epoch: 183, AUC: 0.7381, AP: 0.7345\n",
            "Epoch: 184, AUC: 0.7388, AP: 0.7347\n",
            "Epoch: 185, AUC: 0.7396, AP: 0.7351\n",
            "Epoch: 186, AUC: 0.7404, AP: 0.7353\n",
            "Epoch: 187, AUC: 0.7412, AP: 0.7356\n",
            "Epoch: 188, AUC: 0.7416, AP: 0.7356\n",
            "Epoch: 189, AUC: 0.7421, AP: 0.7359\n",
            "Epoch: 190, AUC: 0.7431, AP: 0.7364\n",
            "Epoch: 191, AUC: 0.7442, AP: 0.7374\n",
            "Epoch: 192, AUC: 0.7448, AP: 0.7375\n",
            "Epoch: 193, AUC: 0.7453, AP: 0.7377\n",
            "Epoch: 194, AUC: 0.7455, AP: 0.7377\n",
            "Epoch: 195, AUC: 0.7457, AP: 0.7374\n",
            "Epoch: 196, AUC: 0.7454, AP: 0.7371\n",
            "Epoch: 197, AUC: 0.7456, AP: 0.7368\n",
            "Epoch: 198, AUC: 0.7462, AP: 0.7370\n",
            "Epoch: 199, AUC: 0.7473, AP: 0.7379\n",
            "Epoch: 200, AUC: 0.7483, AP: 0.7388\n",
            "Epoch: 201, AUC: 0.7493, AP: 0.7393\n",
            "Epoch: 202, AUC: 0.7498, AP: 0.7397\n",
            "Epoch: 203, AUC: 0.7499, AP: 0.7396\n",
            "Epoch: 204, AUC: 0.7501, AP: 0.7396\n",
            "Epoch: 205, AUC: 0.7504, AP: 0.7398\n",
            "Epoch: 206, AUC: 0.7507, AP: 0.7399\n",
            "Epoch: 207, AUC: 0.7510, AP: 0.7399\n",
            "Epoch: 208, AUC: 0.7516, AP: 0.7402\n",
            "Epoch: 209, AUC: 0.7516, AP: 0.7400\n",
            "Epoch: 210, AUC: 0.7519, AP: 0.7401\n",
            "Epoch: 211, AUC: 0.7525, AP: 0.7405\n",
            "Epoch: 212, AUC: 0.7533, AP: 0.7411\n",
            "Epoch: 213, AUC: 0.7542, AP: 0.7413\n",
            "Epoch: 214, AUC: 0.7546, AP: 0.7410\n",
            "Epoch: 215, AUC: 0.7550, AP: 0.7413\n",
            "Epoch: 216, AUC: 0.7548, AP: 0.7412\n",
            "Epoch: 217, AUC: 0.7549, AP: 0.7411\n",
            "Epoch: 218, AUC: 0.7550, AP: 0.7417\n",
            "Epoch: 219, AUC: 0.7550, AP: 0.7417\n",
            "Epoch: 220, AUC: 0.7547, AP: 0.7412\n",
            "Epoch: 221, AUC: 0.7547, AP: 0.7411\n",
            "Epoch: 222, AUC: 0.7553, AP: 0.7417\n",
            "Epoch: 223, AUC: 0.7558, AP: 0.7423\n",
            "Epoch: 224, AUC: 0.7563, AP: 0.7428\n",
            "Epoch: 225, AUC: 0.7566, AP: 0.7430\n",
            "Epoch: 226, AUC: 0.7569, AP: 0.7433\n",
            "Epoch: 227, AUC: 0.7569, AP: 0.7433\n",
            "Epoch: 228, AUC: 0.7570, AP: 0.7433\n",
            "Epoch: 229, AUC: 0.7569, AP: 0.7428\n",
            "Epoch: 230, AUC: 0.7569, AP: 0.7427\n",
            "Epoch: 231, AUC: 0.7568, AP: 0.7426\n",
            "Epoch: 232, AUC: 0.7568, AP: 0.7425\n",
            "Epoch: 233, AUC: 0.7572, AP: 0.7429\n",
            "Epoch: 234, AUC: 0.7574, AP: 0.7432\n",
            "Epoch: 235, AUC: 0.7577, AP: 0.7435\n",
            "Epoch: 236, AUC: 0.7581, AP: 0.7440\n",
            "Epoch: 237, AUC: 0.7582, AP: 0.7440\n",
            "Epoch: 238, AUC: 0.7581, AP: 0.7438\n",
            "Epoch: 239, AUC: 0.7582, AP: 0.7436\n",
            "Epoch: 240, AUC: 0.7582, AP: 0.7435\n",
            "Epoch: 241, AUC: 0.7580, AP: 0.7434\n",
            "Epoch: 242, AUC: 0.7577, AP: 0.7428\n",
            "Epoch: 243, AUC: 0.7578, AP: 0.7430\n",
            "Epoch: 244, AUC: 0.7582, AP: 0.7433\n",
            "Epoch: 245, AUC: 0.7588, AP: 0.7439\n",
            "Epoch: 246, AUC: 0.7593, AP: 0.7443\n",
            "Epoch: 247, AUC: 0.7595, AP: 0.7445\n",
            "Epoch: 248, AUC: 0.7595, AP: 0.7443\n",
            "Epoch: 249, AUC: 0.7591, AP: 0.7438\n",
            "Epoch: 250, AUC: 0.7587, AP: 0.7433\n",
            "Epoch: 251, AUC: 0.7583, AP: 0.7430\n",
            "Epoch: 252, AUC: 0.7579, AP: 0.7425\n",
            "Epoch: 253, AUC: 0.7580, AP: 0.7427\n",
            "Epoch: 254, AUC: 0.7585, AP: 0.7431\n",
            "Epoch: 255, AUC: 0.7589, AP: 0.7431\n",
            "Epoch: 256, AUC: 0.7590, AP: 0.7430\n",
            "Epoch: 257, AUC: 0.7594, AP: 0.7435\n",
            "Epoch: 258, AUC: 0.7596, AP: 0.7437\n",
            "Epoch: 259, AUC: 0.7595, AP: 0.7436\n",
            "Epoch: 260, AUC: 0.7594, AP: 0.7435\n",
            "Epoch: 261, AUC: 0.7594, AP: 0.7436\n",
            "Epoch: 262, AUC: 0.7594, AP: 0.7434\n",
            "Epoch: 263, AUC: 0.7593, AP: 0.7433\n",
            "Epoch: 264, AUC: 0.7590, AP: 0.7428\n",
            "Epoch: 265, AUC: 0.7587, AP: 0.7424\n",
            "Epoch: 266, AUC: 0.7588, AP: 0.7425\n",
            "Epoch: 267, AUC: 0.7591, AP: 0.7429\n",
            "Epoch: 268, AUC: 0.7593, AP: 0.7430\n",
            "Epoch: 269, AUC: 0.7594, AP: 0.7426\n",
            "Epoch: 270, AUC: 0.7595, AP: 0.7428\n",
            "Epoch: 271, AUC: 0.7598, AP: 0.7431\n",
            "Epoch: 272, AUC: 0.7595, AP: 0.7427\n",
            "Epoch: 273, AUC: 0.7592, AP: 0.7421\n",
            "Epoch: 274, AUC: 0.7588, AP: 0.7416\n",
            "Epoch: 275, AUC: 0.7588, AP: 0.7420\n",
            "Epoch: 276, AUC: 0.7588, AP: 0.7420\n",
            "Epoch: 277, AUC: 0.7586, AP: 0.7419\n",
            "Epoch: 278, AUC: 0.7588, AP: 0.7422\n",
            "Epoch: 279, AUC: 0.7590, AP: 0.7415\n",
            "Epoch: 280, AUC: 0.7592, AP: 0.7418\n",
            "Epoch: 281, AUC: 0.7590, AP: 0.7423\n",
            "Epoch: 282, AUC: 0.7589, AP: 0.7422\n",
            "Epoch: 283, AUC: 0.7588, AP: 0.7420\n",
            "Epoch: 284, AUC: 0.7585, AP: 0.7418\n",
            "Epoch: 285, AUC: 0.7584, AP: 0.7416\n",
            "Epoch: 286, AUC: 0.7585, AP: 0.7414\n",
            "Epoch: 287, AUC: 0.7587, AP: 0.7415\n",
            "Epoch: 288, AUC: 0.7588, AP: 0.7416\n",
            "Epoch: 289, AUC: 0.7591, AP: 0.7418\n",
            "Epoch: 290, AUC: 0.7594, AP: 0.7420\n",
            "Epoch: 291, AUC: 0.7597, AP: 0.7423\n",
            "Epoch: 292, AUC: 0.7598, AP: 0.7423\n",
            "Epoch: 293, AUC: 0.7604, AP: 0.7427\n",
            "Epoch: 294, AUC: 0.7604, AP: 0.7426\n",
            "Epoch: 295, AUC: 0.7601, AP: 0.7423\n",
            "Epoch: 296, AUC: 0.7597, AP: 0.7419\n",
            "Epoch: 297, AUC: 0.7591, AP: 0.7412\n",
            "Epoch: 298, AUC: 0.7588, AP: 0.7407\n",
            "Epoch: 299, AUC: 0.7591, AP: 0.7411\n",
            "Epoch: 300, AUC: 0.7598, AP: 0.7418\n"
          ]
        }
      ],
      "source": [
        "writer = SummaryWriter('runs/VGAE_experiment_'+'2d_100_epochs')\n",
        "\n",
        "for epoch in range(1, epochs + 1):\n",
        "    loss = train()\n",
        "    auc, ap = test(data.test_pos_edge_index, data.test_neg_edge_index)\n",
        "    print('Epoch: {:03d}, AUC: {:.4f}, AP: {:.4f}'.format(epoch, auc, ap))\n",
        "    \n",
        "    \n",
        "    writer.add_scalar('auc train',auc,epoch) # new line\n",
        "    writer.add_scalar('ap train',ap,epoch)   # new line"
      ]
    },
    {
      "cell_type": "code",
      "execution_count": null,
      "metadata": {
        "id": "pr3sx1x2TEKo"
      },
      "outputs": [],
      "source": []
    }
  ],
  "metadata": {
    "kernelspec": {
      "display_name": "Python 3",
      "language": "python",
      "name": "python3"
    },
    "language_info": {
      "codemirror_mode": {
        "name": "ipython",
        "version": 3
      },
      "file_extension": ".py",
      "mimetype": "text/x-python",
      "name": "python",
      "nbconvert_exporter": "python",
      "pygments_lexer": "ipython3",
      "version": "3.9.12"
    },
    "colab": {
      "provenance": []
    }
  },
  "nbformat": 4,
  "nbformat_minor": 0
}